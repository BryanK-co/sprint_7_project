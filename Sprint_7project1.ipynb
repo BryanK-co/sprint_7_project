{
 "cells": [
  {
   "cell_type": "markdown",
   "metadata": {},
   "source": [
    "Megaline, a mobile carrier, aims to encourage subscribers on legacy plans to adopt newer plans (Smart or Ultra). To achieve this, they want to leverage subscriber behavior data to build a classification model. This model will predict the most suitable plan (Smart or Ultra) for each subscriber based on their usage patterns. The data used for model development comes from subscribers who have already switched to the new plans."
   ]
  },
  {
   "cell_type": "code",
   "execution_count": 10,
   "metadata": {},
   "outputs": [],
   "source": [
    "import pandas as pd\n",
    "from sklearn.model_selection import train_test_split\n",
    "from sklearn.ensemble import RandomForestClassifier\n",
    "from sklearn.metrics import accuracy_score\n",
    "from sklearn.tree import DecisionTreeClassifier\n",
    "from sklearn.ensemble import RandomForestClassifier\n",
    "from sklearn.linear_model import LogisticRegression\n",
    "from sklearn.model_selection import GridSearchCV\n",
    "from joblib import dump"
   ]
  },
  {
   "cell_type": "code",
   "execution_count": 11,
   "metadata": {},
   "outputs": [
    {
     "name": "stdout",
     "output_type": "stream",
     "text": [
      "   calls  minutes  messages   mb_used  is_ultra\n",
      "0   40.0   311.90      83.0  19915.42         0\n",
      "1   85.0   516.75      56.0  22696.96         0\n",
      "2   77.0   467.66      86.0  21060.45         0\n",
      "3  106.0   745.53      81.0   8437.39         1\n",
      "4   66.0   418.74       1.0  14502.75         0\n"
     ]
    }
   ],
   "source": [
    "# Load datset\n",
    "data = pd.read_csv(r\"C:\\Users\\maryk\\BK_Tri_10\\Project_7\\users_behavior.csv\")\n",
    "\n",
    "# Display the first few rows of the dataset\n",
    "print(data.head())"
   ]
  },
  {
   "cell_type": "code",
   "execution_count": 12,
   "metadata": {},
   "outputs": [
    {
     "name": "stdout",
     "output_type": "stream",
     "text": [
      "Training set size: 1928\n",
      "Validation set size: 643\n",
      "Test set size: 643\n"
     ]
    }
   ],
   "source": [
    "# Split the data into training, validation, and test sets\n",
    "train_data, temp_data = train_test_split(data, test_size=0.4, random_state=42)\n",
    "validation_data, test_data = train_test_split(temp_data, test_size=0.5, random_state=42)\n",
    "\n",
    "# Display the sizes of the splits\n",
    "print(f\"Training set size: {len(train_data)}\")\n",
    "print(f\"Validation set size: {len(validation_data)}\")\n",
    "print(f\"Test set size: {len(test_data)}\")"
   ]
  },
  {
   "cell_type": "code",
   "execution_count": 13,
   "metadata": {},
   "outputs": [
    {
     "name": "stdout",
     "output_type": "stream",
     "text": [
      "Best RandomForestClassifier Validation Accuracy: 0.81\n",
      "Best RandomForestClassifier Parameters: {'max_depth': 10, 'min_samples_split': 2, 'n_estimators': 150}\n",
      "Best DecisionTreeClassifier Validation Accuracy: 0.79\n",
      "Best DecisionTreeClassifier Parameters: {'max_depth': 10, 'min_samples_split': 2}\n"
     ]
    }
   ],
   "source": [
    "# Define the features and target\n",
    "features = ['calls', 'minutes', 'messages', 'mb_used']\n",
    "target = 'is_ultra'\n",
    "\n",
    "X_train = train_data[features]\n",
    "y_train = train_data[target]\n",
    "\n",
    "X_validation = validation_data[features]\n",
    "y_validation = validation_data[target]\n",
    "\n",
    "# Define hyperparameter grids for RandomForestClassifier and DecisionTreeClassifier\n",
    "rf_param_grid = {\n",
    "    'n_estimators': [50, 100, 150],\n",
    "    'max_depth': [None, 10, 20],\n",
    "    'min_samples_split': [2, 5, 10]\n",
    "}\n",
    "\n",
    "dt_param_grid = {\n",
    "    'max_depth': [None, 10, 20],\n",
    "    'min_samples_split': [2, 5, 10]\n",
    "}\n",
    "\n",
    "# Evaluate RandomForestClassifier\n",
    "rf_grid_search = GridSearchCV(RandomForestClassifier(random_state=42), rf_param_grid, cv=3, scoring='accuracy')\n",
    "rf_grid_search.fit(X_train, y_train)\n",
    "best_rf_model = rf_grid_search.best_estimator_\n",
    "rf_validation_accuracy = accuracy_score(y_validation, best_rf_model.predict(X_validation))\n",
    "print(f\"Best RandomForestClassifier Validation Accuracy: {rf_validation_accuracy:.2f}\")\n",
    "print(f\"Best RandomForestClassifier Parameters: {rf_grid_search.best_params_}\")\n",
    "\n",
    "# Evaluate DecisionTreeClassifier\n",
    "dt_grid_search = GridSearchCV(DecisionTreeClassifier(random_state=42), dt_param_grid, cv=3, scoring='accuracy')\n",
    "dt_grid_search.fit(X_train, y_train)\n",
    "best_dt_model = dt_grid_search.best_estimator_\n",
    "dt_validation_accuracy = accuracy_score(y_validation, best_dt_model.predict(X_validation))\n",
    "print(f\"Best DecisionTreeClassifier Validation Accuracy: {dt_validation_accuracy:.2f}\")\n",
    "print(f\"Best DecisionTreeClassifier Parameters: {dt_grid_search.best_params_}\")"
   ]
  },
  {
   "cell_type": "code",
   "execution_count": 14,
   "metadata": {},
   "outputs": [
    {
     "name": "stdout",
     "output_type": "stream",
     "text": [
      "RandomForestClassifier Test Accuracy: 0.82\n",
      "DecisionTreeClassifier Test Accuracy: 0.79\n"
     ]
    }
   ],
   "source": [
    "# Define features and target for the test set\n",
    "X_test = test_data[features]\n",
    "y_test = test_data[target]\n",
    "\n",
    "# Evaluate the best RandomForestClassifier on the test set\n",
    "rf_test_accuracy = accuracy_score(y_test, best_rf_model.predict(X_test))\n",
    "print(f\"RandomForestClassifier Test Accuracy: {rf_test_accuracy:.2f}\")\n",
    "\n",
    "# Evaluate the best DecisionTreeClassifier on the test set\n",
    "dt_test_accuracy = accuracy_score(y_test, best_dt_model.predict(X_test))\n",
    "print(f\"DecisionTreeClassifier Test Accuracy: {dt_test_accuracy:.2f}\")"
   ]
  },
  {
   "cell_type": "code",
   "execution_count": 15,
   "metadata": {},
   "outputs": [
    {
     "name": "stdout",
     "output_type": "stream",
     "text": [
      "RandomForestClassifier Training Accuracy: 0.88\n",
      "DecisionTreeClassifier Training Accuracy: 0.88\n"
     ]
    }
   ],
   "source": [
    "# Evaluate the best RandomForestClassifier on the training set\n",
    "rf_train_accuracy = accuracy_score(y_train, best_rf_model.predict(X_train))\n",
    "print(f\"RandomForestClassifier Training Accuracy: {rf_train_accuracy:.2f}\")\n",
    "\n",
    "# Evaluate the best DecisionTreeClassifier on the training set\n",
    "dt_train_accuracy = accuracy_score(y_train, best_dt_model.predict(X_train))\n",
    "print(f\"DecisionTreeClassifier Training Accuracy: {dt_train_accuracy:.2f}\")"
   ]
  },
  {
   "cell_type": "code",
   "execution_count": 16,
   "metadata": {},
   "outputs": [
    {
     "name": "stdout",
     "output_type": "stream",
     "text": [
      "Logistic Regression Validation Accuracy: 0.74\n",
      "Logistic Regression Test Accuracy: 0.77\n",
      "RandomForestClassifier Test Accuracy: 0.82\n",
      "DecisionTreeClassifier Test Accuracy: 0.79\n",
      "Best RandomForestClassifier model saved as 'best_rf_model.joblib'\n"
     ]
    }
   ],
   "source": [
    "# Train a Logistic Regression model\n",
    "log_reg = LogisticRegression(random_state=42, max_iter=1000)\n",
    "log_reg.fit(X_train, y_train)\n",
    "\n",
    "# Evaluate Logistic Regression on validation and test sets\n",
    "log_reg_validation_accuracy = accuracy_score(y_validation, log_reg.predict(X_validation))\n",
    "log_reg_test_accuracy = accuracy_score(y_test, log_reg.predict(X_test))\n",
    "\n",
    "print(f\"Logistic Regression Validation Accuracy: {log_reg_validation_accuracy:.2f}\")\n",
    "print(f\"Logistic Regression Test Accuracy: {log_reg_test_accuracy:.2f}\")\n",
    "\n",
    "# Compare with the best RandomForestClassifier and DecisionTreeClassifier\n",
    "print(f\"RandomForestClassifier Test Accuracy: {rf_test_accuracy:.2f}\")\n",
    "print(f\"DecisionTreeClassifier Test Accuracy: {dt_test_accuracy:.2f}\")\n",
    "\n",
    "# Save the best model (RandomForestClassifier in this case)\n",
    "dump(best_rf_model, 'best_rf_model.joblib')\n",
    "print(\"Best RandomForestClassifier model saved as 'best_rf_model.joblib'\")"
   ]
  },
  {
   "cell_type": "code",
   "execution_count": 17,
   "metadata": {},
   "outputs": [
    {
     "name": "stdout",
     "output_type": "stream",
     "text": [
      "[0]\n"
     ]
    }
   ],
   "source": [
    "# Create a new data point for prediction\n",
    "new_data = pd.DataFrame({'calls': [50], 'minutes': [300], 'messages': [20], 'mb_used': [15000]})\n",
    "\n",
    "# Use the trained RandomForestClassifier to make a prediction\n",
    "prediction = best_rf_model.predict(new_data)\n",
    "\n",
    "# Print the prediction\n",
    "print(prediction)"
   ]
  },
  {
   "cell_type": "code",
   "execution_count": 18,
   "metadata": {},
   "outputs": [
    {
     "name": "stdout",
     "output_type": "stream",
     "text": [
      "Recommend the Smart plan.\n"
     ]
    }
   ],
   "source": [
    "# Print the recommendation\n",
    "new_data = pd.DataFrame({'calls': [50], 'minutes': [300], 'messages': [20], 'mb_used': [15000]})\n",
    "prediction = best_rf_model.predict(new_data)\n",
    "if prediction[0] == 1:\n",
    "    print(\"Recommend the Ultra plan.\")\n",
    "else:\n",
    "    print(\"Recommend the Smart plan.\")"
   ]
  },
  {
   "cell_type": "markdown",
   "metadata": {
    "vscode": {
     "languageId": "yaml"
    }
   },
   "source": [
    "Conclusion\n",
    "The study aimed to classify mobile subscribers into two categories: \"Ultra\" (`is_ultra = 1`) or \"Smart\" (`is_ultra = 0`) based on their usage patterns (`calls`, `minutes`, `messages`, `mb_used`).\n",
    "The dataset contains 3,214 rows and 5 columns, including the target variable `is ultra`. The data was split into training (60%), validation (20%), and test (20%) sets.\n",
    "Three machine learning models were trained and evaluated:\n",
    "      -RandomForestClassifier: Achieved the best performance.\n",
    "      - DecisionTreeClassifier: Performed slightly worse than RandomForest.\n",
    "      - LogisticRegression: Had the lowest accuracy among the three models.\n",
    "\n",
    "Model Performance:\n",
    "    - RandomForestClassifier:\n",
    "      - Training Accuracy: 88.38%\n",
    "      - Validation Accuracy: 80.56%\n",
    "      - Test Accuracy: 82.27%\n",
    "    - DecisionTreeClassifier:\n",
    "      - Training Accuracy: 87.86%\n",
    "      - Validation Accuracy: 79.47%\n",
    "      - Test Accuracy: 79.47%\n",
    "    - LogisticRegression:\n",
    "      - Validation Accuracy: 74.03%\n",
    "      - Test Accuracy: 76.83%\n",
    "Best Model:\n",
    "    - The RandomForestClassifier was selected as the best model due to its superior performance on the test set. The RandomForestClassifier can provide insights into feature importance, helping to understand which usage patterns (e.g., `calls`, `minutes`, `messages`, `mb_used`) are most predictive of the \"Ultra\" plan.\n",
    "Insights for Marketing\n",
    "    - Subscribers with high usage of `minutes` and `mb_used` are more likely to benefit from the \"Ultra\" plan.\n",
    "    - Subscribers with lower usage patterns may be better suited for the \"Smart\" plan.\n",
    "The RandomForestClassifier provides an effective and accurate method for recommending plans to subscribers. By leveraging this model, Megaline can optimize its marketing strategy and improve customer satisfaction by aligning plans with subscriber needs.\n"
   ]
  },
  {
   "cell_type": "code",
   "execution_count": null,
   "metadata": {},
   "outputs": [],
   "source": [
    "# Load dataset\n",
    "data = pd.read_csv(\"https://jupyterhub.tripleten-services.com/user/user-3-a2e7d293-bbfb-4c29-9c44-ae25f6b58400/edit/users_behavior.csv\")\n",
    "\n",
    "# Display the first few rows of the dataset\n",
    "print(data.head())"
   ]
  },
  {
   "cell_type": "code",
   "execution_count": null,
   "metadata": {},
   "outputs": [],
   "source": [
    "# Load dataset from a local file\n",
    "data = pd.read_csv(\"path_to_local_file/users_behavior.csv\")\n",
    "\n",
    "# Display the first few rows of the dataset\n",
    "print(data.head())"
   ]
  }
 ],
 "metadata": {
  "kernelspec": {
   "display_name": "venv",
   "language": "python",
   "name": "python3"
  },
  "language_info": {
   "codemirror_mode": {
    "name": "ipython",
    "version": 3
   },
   "file_extension": ".py",
   "mimetype": "text/x-python",
   "name": "python",
   "nbconvert_exporter": "python",
   "pygments_lexer": "ipython3",
   "version": "3.13.2"
  }
 },
 "nbformat": 4,
 "nbformat_minor": 2
}
